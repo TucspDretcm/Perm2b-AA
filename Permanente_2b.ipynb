{
  "nbformat": 4,
  "nbformat_minor": 0,
  "metadata": {
    "colab": {
      "name": "Permanente_2b.ipynb",
      "provenance": [],
      "collapsed_sections": [
        "Vwtx_O4N0Qno"
      ],
      "authorship_tag": "ABX9TyPGIvtMwJj+zQxXTA9m4GDU",
      "include_colab_link": true
    },
    "kernelspec": {
      "name": "python3",
      "display_name": "Python 3"
    },
    "language_info": {
      "name": "python"
    }
  },
  "cells": [
    {
      "cell_type": "markdown",
      "metadata": {
        "id": "view-in-github",
        "colab_type": "text"
      },
      "source": [
        "<a href=\"https://colab.research.google.com/github/TucspDretcm/Perm2b-AA/blob/main/Permanente_2b.ipynb\" target=\"_parent\"><img src=\"https://colab.research.google.com/assets/colab-badge.svg\" alt=\"Open In Colab\"/></a>"
      ]
    },
    {
      "cell_type": "markdown",
      "source": [
        "<h1><b><u>Algebra Abstracta</u></b></h1>\n",
        "2022-1\n",
        "\n",
        "Permanente 2b\n",
        "\n",
        "<h2>Integrantes:</h2>\n",
        "\n",
        "*   Gabriel Ivan Rodriguez Postigo\n",
        "*   Jaime Mateo Gutiérrez Muñoz\n",
        "*   Alexander Carpio Mamani"
      ],
      "metadata": {
        "id": "DZLCHxRn6QId"
      }
    },
    {
      "cell_type": "markdown",
      "source": [
        "# Euclides"
      ],
      "metadata": {
        "id": "Vwtx_O4N0Qno"
      }
    },
    {
      "cell_type": "code",
      "execution_count": 1,
      "metadata": {
        "id": "ETLbgxip0OdL"
      },
      "outputs": [],
      "source": [
        "def Euclides(a, b):\n",
        "  if b == 0:\n",
        "    return a\n",
        "  else:\n",
        "    return Euclides(b, a%b)\n",
        "\n",
        "def Ext_Euclides(a, b):\n",
        "  if b == 0:\n",
        "    return (a, 1, 0)\n",
        "  else:\n",
        "    d, x_, y_ = Ext_Euclides(b, a%b)\n",
        "    x, y = y_, x_ - int(a/b)*y_\n",
        "    return (d, x, y)\n",
        "\n",
        "def Inversa(a, n):\n",
        "  if Euclides(a, n) == 1:\n",
        "    mgd, x, y = Ext_Euclides(a, n)\n",
        "    return x % n\n",
        "  else:\n",
        "    print(\"No existe inversa\")"
      ]
    },
    {
      "cell_type": "markdown",
      "source": [
        "# Miller-Rabin"
      ],
      "metadata": {
        "id": "S1vyZNRc0d8m"
      }
    },
    {
      "cell_type": "code",
      "source": [
        "import random\n",
        "\n",
        "# Iterativo\n",
        "def EXPMOD(a, x, n):\n",
        "  c = a % n\n",
        "  r = 1\n",
        "  while (x > 0):\n",
        "    if x % 2 != 0:\n",
        "      r = (r * c) % n\n",
        "    c = (c * c) % n\n",
        "    x = int(x/2)\n",
        "  return r\n",
        "\n",
        "def ES_COMPUESTO(a, n, t, u):\n",
        "  # x = a**u % n    # ERROR! : OVERFLOW con números de varias cifras.\n",
        "  x = EXPMOD(a,u,n)\n",
        "  if x == 1 or x == n-1:\n",
        "    return False  # n es posiblemente primo\n",
        "  for i in range(t):\n",
        "    x = EXPMOD(x,2,n)\n",
        "    if x == n-1:\n",
        "      return False  # n es posiblemente primo\n",
        "  return True    # n es un número compuesto\n",
        "\n",
        "def gen_random_a(n, s):  # genera \"s\" numeros random unicos en el rango de 2 y n-1, si no se pueden generar \"s\" números entonces retorna lo que tenga.\n",
        "  randoms = []\n",
        "  maximo = min(s, n-3)\n",
        "  while len(randoms) < maximo:\n",
        "    num = random.randint(2, n-1)\n",
        "    if num not in randoms:\n",
        "      randoms.append(num)\n",
        "  return randoms\n",
        "\n",
        "def MILLER_RABIN(n, s):\n",
        "  t = 0\n",
        "  u = n - 1\n",
        "  while u % 2 == 0:\n",
        "    u = u//2\n",
        "    t = t + 1\n",
        "  #for a in gen_random_a(n, s):\n",
        "  for _ in range(s):\n",
        "    a = random.randint(2, n-1)\n",
        "    if ES_COMPUESTO(a, n, t, u):\n",
        "      return False\n",
        "  return True\n",
        "\n",
        "def RANDOMBITS(b):\n",
        "  n = random.randint(0, 2**b - 1)\n",
        "  m = 2**(b-1) + 1\n",
        "  return n | m    # el operador \"|\" nos permite hacer una operación binaria de \"n\" y \"m\" en binario(bin(n) v bin(m)).\n",
        "\n",
        "def RANDOMGEN_PRIMOS(b, s):\n",
        "  n = RANDOMBITS(b)\n",
        "  while MILLER_RABIN(n, s) == False:\n",
        "    n = n + 2\n",
        "  return n\n",
        "\n",
        "def GEN_PRIMO_SIGUIENTE(n, s):\n",
        "  n = n + 1 - (n % 2)\n",
        "  while MILLER_RABIN(n, s) == False:\n",
        "    n = n + 2\n",
        "  return n"
      ],
      "metadata": {
        "id": "13KTBznS06SY"
      },
      "execution_count": 168,
      "outputs": []
    },
    {
      "cell_type": "markdown",
      "source": [
        "# Implementar RSA KEY GENERATOR."
      ],
      "metadata": {
        "id": "MZ5A22xy0Tx2"
      }
    },
    {
      "cell_type": "code",
      "source": [
        "class RSA:\n",
        "  def __init__(self, k):\n",
        "\n",
        "    n = 1\n",
        "    while True:\n",
        "      self.e, self.d, self.n = self.RSA_KEY_GENERATOR(k, 10**n)\n",
        "      m = random.randint(2,self.n-1)\n",
        "      c = self.Cifrado(m)\n",
        "      if m == self.Descifrado(c):\n",
        "        break\n",
        "      else:\n",
        "        n += 1\n",
        "\n",
        "    print(\"RSA (s={:}, e={:}, d={:}, n={:}, phi={:})\".format(10**n, self.e, self.d, self.n, self.phi))\n",
        "\n",
        "  def RSA_KEY_GENERATOR(self, k, s):\n",
        "    if k<8:    # generar primos con bits menores al dividirlos entre 2 no abria muchos, ocurria un loop, o un error.\n",
        "      k = 8\n",
        "    p = RANDOMGEN_PRIMOS(k//2, s)\n",
        "    q = RANDOMGEN_PRIMOS(k//2, s)\n",
        "    while p==q:\n",
        "      q = RANDOMGEN_PRIMOS(k//2, s)\n",
        "\n",
        "    n, self.phi = p*q, (p-1)*(q-1)\n",
        "\n",
        "    e = random.randint(2,n-1)\n",
        "    while Euclides(e, self.phi)!=1:\n",
        "      e = random.randint(2, n-1)\n",
        "      \n",
        "    d = Inversa(e, self.phi)\n",
        "    return e, d, n\n",
        "\n",
        "  def Cifrado(self, m):\n",
        "    return EXPMOD(m, self.e, self.n)\n",
        "\n",
        "  def Descifrado(self, c):\n",
        "    return EXPMOD(c, self.d, self.n)\n",
        "  \n",
        "  def get_edn(self):\n",
        "    return self.e, self.d, self.n\n",
        "\n",
        "rsa = RSA(8)"
      ],
      "metadata": {
        "colab": {
          "base_uri": "https://localhost:8080/"
        },
        "id": "TCn7PUsU1ntJ",
        "outputId": "a8c92016-559b-4255-855c-dd8a923eeda1"
      },
      "execution_count": 388,
      "outputs": [
        {
          "output_type": "stream",
          "name": "stdout",
          "text": [
            "RSA (s=10, e=29, d=29, n=143, phi=120)\n"
          ]
        }
      ]
    },
    {
      "cell_type": "code",
      "source": [
        "rsa = RSA(59)\n",
        "\n",
        "mensaje = 13\n",
        "print(\"\\nMensaje original: \", mensaje)\n",
        "c = rsa.Cifrado(mensaje)\n",
        "print(\"Cifrado: \", c)\n",
        "print(\"Descifrado: \", rsa.Descifrado(c))\n",
        "\n",
        "e,d,n = rsa.get_edn()\n",
        "\n",
        "print(\"\\ne*d mod phi =\", e*d % rsa.phi)    # e*d mod n = 1 mod n\n",
        "print(\"phi | (e*d - 1) = \", (e*d-1) % rsa.phi)   # phi | (e*d - 1)\n",
        "print(\"mgd(e, phi)={:}\\t mgd(d,phi)={:}\".format(Euclides(e, rsa.phi), Euclides(d, rsa.phi)))"
      ],
      "metadata": {
        "colab": {
          "base_uri": "https://localhost:8080/"
        },
        "id": "WeP6vC-lxoZ_",
        "outputId": "c70400be-7230-4772-9ff1-3fed3f89d233"
      },
      "execution_count": 393,
      "outputs": [
        {
          "output_type": "stream",
          "name": "stdout",
          "text": [
            "RSA (s=1000, e=159591720678573569, d=22724742037357541, n=224810904119749237, phi=224810903164223916)\n",
            "\n",
            "Mensaje original:  13\n",
            "Cifrado:  218831990259710270\n",
            "Descifrado:  13\n",
            "\n",
            "e*d mod phi = 1\n",
            "phi | (e*d - 1) =  0\n",
            "mgd(e, phi)=1\t mgd(d,phi)=1\n"
          ]
        }
      ]
    },
    {
      "cell_type": "markdown",
      "source": [
        "# Crear un sistema RSA-64 (de k = 64 bits), y mostrar los valores para e, d y n. Generar una tabla con tres columnas m, c = P(m) y m' = S(c) - en teoría se cumple m' = m. Para las filas usar 10 valores números aleatorios distintos para m."
      ],
      "metadata": {
        "id": "bvFSHrxk0nTr"
      }
    },
    {
      "cell_type": "code",
      "source": [
        "print(\" m\\t\\t\\t|\\t c= P(m)\\t\\t|\\t m' = S(c)\")\n",
        "print(\"-\"*85)\n",
        "\n",
        "for _ in range(10):\n",
        "  m = random.randint(2, n-1)\n",
        "  c = rsa.Cifrado(m)\n",
        "  semi_m = rsa.Descifrado(c)\n",
        "  print(\" {:}\\t|\\t {:}\\t|\\t {:}\".format(m, c, semi_m))\n"
      ],
      "metadata": {
        "id": "phrKQUMa6ORR",
        "colab": {
          "base_uri": "https://localhost:8080/"
        },
        "outputId": "b3e04ffb-c8dc-46e3-ed16-02af7934c348"
      },
      "execution_count": 394,
      "outputs": [
        {
          "output_type": "stream",
          "name": "stdout",
          "text": [
            " m\t\t\t|\t c= P(m)\t\t|\t m' = S(c)\n",
            "-------------------------------------------------------------------------------------\n",
            " 176766408831992707\t|\t 61408374729407702\t|\t 176766408831992707\n",
            " 183597512350914172\t|\t 195889659501958673\t|\t 183597512350914172\n",
            " 136068147220167639\t|\t 38581632321644873\t|\t 136068147220167639\n",
            " 44545726954338757\t|\t 212320741186060674\t|\t 44545726954338757\n",
            " 159526595081864709\t|\t 64698867816577206\t|\t 159526595081864709\n",
            " 102238157482647417\t|\t 198809144261950100\t|\t 102238157482647417\n",
            " 42566669424109485\t|\t 173690110227850276\t|\t 42566669424109485\n",
            " 187235573050613406\t|\t 191513237696801722\t|\t 187235573050613406\n",
            " 70922504592093835\t|\t 160177844572460541\t|\t 70922504592093835\n",
            " 129506786751827790\t|\t 66997309505938865\t|\t 129506786751827790\n"
          ]
        }
      ]
    },
    {
      "cell_type": "markdown",
      "source": [
        "<h2>EXTRA: Frases o palabras Cifradas y Descifradas.</h2>"
      ],
      "metadata": {
        "id": "t0M_GOyIm7es"
      }
    },
    {
      "cell_type": "code",
      "source": [
        "def Cifrado(msg):\n",
        "  cade = \"\"\n",
        "  data = []\n",
        "  for m in msg:\n",
        "    me = rsa.Cifrado(ord(m))    # pasamos el valor en ascci de la palabra a el Cifrado RSA\n",
        "    encrip = me % ord('A') + 65   # rango [65, 122] donde 65='A' y 122='z'\n",
        "    cade += str(\"%c\" % encrip)   # convertimos de decimal a word ascci\n",
        "    data.append(me)\n",
        "  return cade, data\n",
        "\n",
        "def Descifrado(msg, data):\n",
        "  cade = \"\"\n",
        "  for i in range(len(msg)):\n",
        "    med = rsa.Descifrado(data[i])\n",
        "    cade += str(\"%c\" % med)\n",
        "  return cade\n",
        "\n",
        "words = [\"Hola\", \"Juego\", \"pichanga\", \"lemur\", \"DBP\", \"Algebra\", \"Hulk\", \"Mina\", \"Gaa\", \"UCSP\"]\n",
        "for word in words:\n",
        "  word_2, data = Cifrado(word)\n",
        "  word_3 = Descifrado(word_2, data)\n",
        "  print(\"(Original={:}, Cifrado={:}, Descifrado={:})\".format(word, word_2, word_3))"
      ],
      "metadata": {
        "colab": {
          "base_uri": "https://localhost:8080/"
        },
        "id": "wMuS42tzm6fd",
        "outputId": "e18d9f2a-0fc2-440b-98c9-94a4102ea8b8"
      },
      "execution_count": 418,
      "outputs": [
        {
          "output_type": "stream",
          "name": "stdout",
          "text": [
            "(Original=Hola, Cifrado=qnb~, Descifrado=Hola)\n",
            "(Original=Juego, Cifrado=HFQCn, Descifrado=Juego)\n",
            "(Original=pichanga, Cifrado=CMBU~YC~, Descifrado=pichanga)\n",
            "(Original=lemur, Cifrado=bQ|FO, Descifrado=lemur)\n",
            "(Original=DBP, Cifrado=NSe, Descifrado=DBP)\n",
            "(Original=Algebra, Cifrado=LbCQbO~, Descifrado=Algebra)\n",
            "(Original=Hulk, Cifrado=qFb|, Descifrado=Hulk)\n",
            "(Original=Mina, Cifrado=QMY~, Descifrado=Mina)\n",
            "(Original=Gaa, Cifrado=C~~, Descifrado=Gaa)\n",
            "(Original=UCSP, Cifrado=NZTe, Descifrado=UCSP)\n"
          ]
        }
      ]
    }
  ]
}